{
 "cells": [
  {
   "cell_type": "code",
   "execution_count": null,
   "metadata": {},
   "outputs": [],
   "source": [
    "import pandas as pd\n",
    "from tsfresh.examples.robot_execution_failures import download_robot_execution_failures\n",
    "from tsfresh.feature_extraction.extraction import extract_features_on_sub_features\n",
    "from tsfresh.feature_extraction.settings import MinimalFCParameters"
   ]
  },
  {
   "cell_type": "markdown",
   "metadata": {},
   "source": [
    "# ...."
   ]
  },
  {
   "cell_type": "code",
   "execution_count": null,
   "metadata": {},
   "outputs": [],
   "source": [
    "robo_df = download_robot_execution_failures()\n",
    "robo_df.head()"
   ]
  },
  {
   "cell_type": "markdown",
   "metadata": {},
   "source": [
    "# Extract features from the Time Series\n",
    "blah blah blah blah blah"
   ]
  },
  {
   "cell_type": "code",
   "execution_count": null,
   "metadata": {},
   "outputs": [],
   "source": [
    "X = extract_features_on_sub_features(timeseries_container=robo_df,\n",
    "                                    sub_feature_split=3,  # window size\n",
    "                                    sub_default_fc_parameters=MinimalFCParameters(),\n",
    "                                    ##TODO: check if one of these isnt specified use the other\n",
    "                                    default_fc_parameters=None,\n",
    "                                    column_id=\"measurement_id\",\n",
    "                                    column_sort=\"t\")\n",
    "X.head()                                    "
   ]
  },
  {
   "cell_type": "markdown",
   "metadata": {},
   "source": [
    "# Select the most relevant time Serie"
   ]
  },
  {
   "cell_type": "markdown",
   "metadata": {},
   "source": [
    "# Given this new set of subfeatures - we can decompose this into the useful features..."
   ]
  },
  {
   "cell_type": "code",
   "execution_count": null,
   "metadata": {},
   "outputs": [],
   "source": [
    "## RUN the code with the smaller feature set\n",
    "## "
   ]
  }
 ],
 "metadata": {
  "kernelspec": {
   "display_name": "Python 3.8.3 ('venv': venv)",
   "language": "python",
   "name": "python3"
  },
  "language_info": {
   "name": "python",
   "version": "3.8.3"
  },
  "orig_nbformat": 4,
  "vscode": {
   "interpreter": {
    "hash": "2d1c0b312e306f454b1c654e42e92d567a0bb9b7d451dca9286d8175c14f4257"
   }
  }
 },
 "nbformat": 4,
 "nbformat_minor": 2
}
